{
 "cells": [
  {
   "cell_type": "markdown",
   "id": "9ab56863-8c20-49d5-9996-10b0c2320987",
   "metadata": {},
   "source": [
    "# Q-Learning in Python\n",
    "\n",
    "This notebook demonstrates how to implement Q-Learning using OpenAI Gym and NumPy."
   ]
  },
  {
   "cell_type": "markdown",
   "id": "b48024bc-73b6-4ad3-8dad-e87366fca2ea",
   "metadata": {},
   "source": [
    "# **Step 1: Import Libraries**"
   ]
  },
  {
   "cell_type": "code",
   "execution_count": 13,
   "id": "7478648a-2932-4206-8b0a-3b0737fc3836",
   "metadata": {},
   "outputs": [],
   "source": [
    "import numpy as np\n",
    "import gymnasium as gym"
   ]
  },
  {
   "cell_type": "markdown",
   "id": "d67bbf9f-0672-4ef6-a247-73ed49df4645",
   "metadata": {},
   "source": [
    "# **Step 2: Initialize Environment and Q-Table**"
   ]
  },
  {
   "cell_type": "code",
   "execution_count": 14,
   "id": "29689a13-4ea9-43c9-96d4-d7d806558671",
   "metadata": {},
   "outputs": [],
   "source": [
    "# Create FrozenLake environment\n",
    "env = gym.make(\"FrozenLake-v1\", is_slippery=False, render_mode=None)\n",
    "n_states = env.observation_space.n\n",
    "n_actions = env.action_space.n"
   ]
  },
  {
   "cell_type": "code",
   "execution_count": 15,
   "id": "e2e7bab3-81dc-4aa1-82dd-130184c9181e",
   "metadata": {},
   "outputs": [],
   "source": [
    "# Initialize Q-table with zeros\n",
    "Q_table = np.zeros((n_states, n_actions))"
   ]
  },
  {
   "cell_type": "markdown",
   "id": "5b685b4d-4ad6-4f7d-9524-4828ce704df4",
   "metadata": {},
   "source": [
    "# **Step 3: Define Q-Learning Parameters**"
   ]
  },
  {
   "cell_type": "code",
   "execution_count": 16,
   "id": "10cf0359-85ae-4e2e-a6ac-53dce5bed228",
   "metadata": {},
   "outputs": [],
   "source": [
    "# Hyperparameters\n",
    "learning_rate = 0.1\n",
    "discount_factor = 0.99\n",
    "epsilon = 1.0\n",
    "epsilon_decay = 0.995\n",
    "min_epsilon = 0.01\n",
    "num_episodes = 1000\n",
    "max_steps = 100"
   ]
  },
  {
   "cell_type": "markdown",
   "id": "9f0a9ff8-2e05-43b0-b2d2-0ef81a9bbe69",
   "metadata": {},
   "source": [
    "# **Step 4: Implement Q-Learning Algorithm**"
   ]
  },
  {
   "cell_type": "code",
   "execution_count": 17,
   "id": "8f361578-542c-4a91-9f3a-abd8cd914bcd",
   "metadata": {},
   "outputs": [
    {
     "name": "stdout",
     "output_type": "stream",
     "text": [
      "Success Rate: 0.77\n"
     ]
    }
   ],
   "source": [
    "rewards = []\n",
    "for episode in range(num_episodes):\n",
    "    state, _ = env.reset()\n",
    "    total_reward = 0\n",
    "    for step in range(max_steps):\n",
    "        # Choose action (epsilon-greedy)\n",
    "        if np.random.rand() < epsilon:\n",
    "            action = env.action_space.sample()  # Explore\n",
    "        else:\n",
    "            action = np.argmax(Q_table[state, :])  # Exploit\n",
    "        \n",
    "        # Take action\n",
    "        new_state, reward, done, _, _ = env.step(action)\n",
    "        \n",
    "        # Update Q-table\n",
    "        Q_table[state, action] = (1 - learning_rate) * Q_table[state, action] + \\\n",
    "                                 learning_rate * (reward + discount_factor * np.max(Q_table[new_state, :]))\n",
    "\n",
    "        state = new_state\n",
    "        total_reward += reward\n",
    "        if done:\n",
    "            break\n",
    "\n",
    "    # Decay epsilon\n",
    "    epsilon = max(min_epsilon, epsilon * epsilon_decay)\n",
    "    rewards.append(total_reward)\n",
    "\n",
    "print(f\"Success Rate: {sum(rewards) / num_episodes:.2f}\")"
   ]
  },
  {
   "cell_type": "markdown",
   "id": "867da231-69da-419d-89c2-a349440b7be8",
   "metadata": {},
   "source": [
    "# **Step 5: Evaluate the Q-Learning Agent**"
   ]
  },
  {
   "cell_type": "code",
   "execution_count": 18,
   "id": "7977fd4a-47b4-479c-a156-c685be576fca",
   "metadata": {},
   "outputs": [
    {
     "name": "stdout",
     "output_type": "stream",
     "text": [
      "Success Rate: 0.77\n"
     ]
    }
   ],
   "source": [
    "success_rate = sum(rewards) / num_episodes\n",
    "print(f\"Success Rate: {success_rate:.2f}\")"
   ]
  },
  {
   "cell_type": "code",
   "execution_count": 19,
   "id": "329da63d-35a0-4fae-8fee-f9e2b30d0289",
   "metadata": {},
   "outputs": [
    {
     "data": {
      "image/png": "[encoded data removed]",
      "text/plain": [
       "<Figure size 640x480 with 1 Axes>"
      ]
     },
     "metadata": {},
     "output_type": "display_data"
    }
   ],
   "source": [
    "import matplotlib.pyplot as plt\n",
    "\n",
    "plt.plot(np.convolve(rewards, np.ones(50)/50, mode='valid'))\n",
    "plt.xlabel(\"Episodes\")\n",
    "plt.ylabel(\"Average Reward\")\n",
    "plt.title(\"Q-Learning Training Progress\")\n",
    "plt.show()"
   ]
  },
  {
   "cell_type": "markdown",
   "id": "d876ad35-34aa-4e10-af13-c4b10acea878",
   "metadata": {},
   "source": [
    "## Next Steps\n",
    "- Try different values for hyperparameters like `learning_rate` and `discount_factor`.\n",
    "- Experiment with a slippery version of FrozenLake (`is_slippery=True`).\n",
    "- Implement a Deep Q-Network (DQN) instead of a table-based Q-learning."
   ]
  },
  {
   "cell_type": "code",
   "execution_count": null,
   "id": "52b4b31d-7b76-4afe-aa5d-3f96cd31388e",
   "metadata": {},
   "outputs": [],
   "source": []
  }
 ],
 "metadata": {
  "kernelspec": {
   "display_name": "Python 3 (ipykernel)",
   "language": "python",
   "name": "python3"
  },
  "language_info": {
   "codemirror_mode": {
    "name": "ipython",
    "version": 3
   },
   "file_extension": ".py",
   "mimetype": "text/x-python",
   "name": "python",
   "nbconvert_exporter": "python",
   "pygments_lexer": "ipython3",
   "version": "3.12.6"
  }
 },
 "nbformat": 4,
 "nbformat_minor": 5
}
