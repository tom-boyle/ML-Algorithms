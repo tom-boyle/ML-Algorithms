{
 "cells": [
  {
   "cell_type": "markdown",
   "id": "15c97346-ad1f-4a66-9231-175585653ba8",
   "metadata": {},
   "source": [
    "# Convolutional Neural Network (CNN) in Python\n",
    "\n",
    "This notebook demonstrates how to implement a basic CNN using PyTorch on the MNIST dataset."
   ]
  },
  {
   "cell_type": "markdown",
   "id": "52e6d087-f6b2-4c97-ab2b-0297b9004a12",
   "metadata": {},
   "source": [
    "# **Step 1: Import Libraries**"
   ]
  },
  {
   "cell_type": "code",
   "execution_count": 1,
   "id": "84d57018-4c34-451b-8955-2da3ef7a1b1e",
   "metadata": {},
   "outputs": [],
   "source": [
    "import torch\n",
    "import torch.nn as nn\n",
    "import torch.optim as optim\n",
    "import torchvision\n",
    "import torchvision.transforms as transforms\n",
    "from torch.utils.data import DataLoader"
   ]
  },
  {
   "cell_type": "markdown",
   "id": "c77a454e-ad49-416f-9af1-3a4c50229db4",
   "metadata": {},
   "source": [
    "# **Step 2: Load and Preprocess MNIST Dataset**"
   ]
  },
  {
   "cell_type": "code",
   "execution_count": 2,
   "id": "8fd8d798-2202-42ed-b084-be05436a911f",
   "metadata": {},
   "outputs": [],
   "source": [
    "transform = transforms.Compose([transforms.ToTensor(), transforms.Normalize((0.5,), (0.5,))])\n",
    "\n",
    "train_dataset = torchvision.datasets.MNIST(root=\"./data\", train=True, transform=transform, download=True)\n",
    "test_dataset = torchvision.datasets.MNIST(root=\"./data\", train=False, transform=transform, download=True)\n",
    "\n",
    "train_loader = DataLoader(train_dataset, batch_size=64, shuffle=True)\n",
    "test_loader = DataLoader(test_dataset, batch_size=64, shuffle=False)"
   ]
  },
  {
   "cell_type": "markdown",
   "id": "46ca96d5-7da6-48f0-a4c9-2f4635188dee",
   "metadata": {},
   "source": [
    "# **Step 3: Define CNN Model**"
   ]
  },
  {
   "cell_type": "code",
   "execution_count": 3,
   "id": "395d1c10-d5e2-463c-a48b-5738dd853b8c",
   "metadata": {},
   "outputs": [],
   "source": [
    "class CNN(nn.Module):\n",
    "    def __init__(self):\n",
    "        super(CNN, self).__init__()\n",
    "        self.conv1 = nn.Conv2d(in_channels=1, out_channels=32, kernel_size=3, stride=1, padding=1)\n",
    "        self.conv2 = nn.Conv2d(in_channels=32, out_channels=64, kernel_size=3, stride=1, padding=1)\n",
    "        self.pool = nn.MaxPool2d(kernel_size=2, stride=2, padding=0)\n",
    "        self.fc1 = nn.Linear(64 * 7 * 7, 128)\n",
    "        self.fc2 = nn.Linear(128, 10)\n",
    "    \n",
    "    def forward(self, x):\n",
    "        x = self.pool(torch.relu(self.conv1(x)))\n",
    "        x = self.pool(torch.relu(self.conv2(x)))\n",
    "        x = x.view(-1, 64 * 7 * 7)\n",
    "        x = torch.relu(self.fc1(x))\n",
    "        x = self.fc2(x)\n",
    "        return x"
   ]
  },
  {
   "cell_type": "markdown",
   "id": "1d010199-4c03-43e4-bee4-7c6501a03cd7",
   "metadata": {},
   "source": [
    "# **Step 4: Initialize Model, Loss Function, and Optimizer**"
   ]
  },
  {
   "cell_type": "code",
   "execution_count": 4,
   "id": "08f4e665-d0cc-4481-87d5-7eff7298ce6d",
   "metadata": {},
   "outputs": [],
   "source": [
    "cnn = CNN()\n",
    "loss_fn = nn.CrossEntropyLoss()\n",
    "optimizer = optim.Adam(cnn.parameters(), lr=0.001)"
   ]
  },
  {
   "cell_type": "markdown",
   "id": "495fb4b6-8069-4d3d-a886-4bf39dab9b1e",
   "metadata": {},
   "source": [
    "# **Step 5: Train the CNN Model**"
   ]
  },
  {
   "cell_type": "code",
   "execution_count": 5,
   "id": "86dec599-95bc-4c37-a9e1-ee818531a3e3",
   "metadata": {},
   "outputs": [
    {
     "name": "stdout",
     "output_type": "stream",
     "text": [
      "Epoch 1, Loss: 0.0416\n",
      "Epoch 2, Loss: 0.0047\n",
      "Epoch 3, Loss: 0.0142\n",
      "Epoch 4, Loss: 0.0010\n",
      "Epoch 5, Loss: 0.0473\n"
     ]
    }
   ],
   "source": [
    "epochs = 5\n",
    "for epoch in range(epochs):\n",
    "    for images, labels in train_loader:\n",
    "        optimizer.zero_grad()\n",
    "        outputs = cnn(images)\n",
    "        loss = loss_fn(outputs, labels)\n",
    "        loss.backward()\n",
    "        optimizer.step()\n",
    "    print(f\"Epoch {epoch+1}, Loss: {loss.item():.4f}\")"
   ]
  },
  {
   "cell_type": "markdown",
   "id": "2188e787-d692-473b-a100-45bc75d9274e",
   "metadata": {},
   "source": [
    "# **Step 6: Evaluate the Model**"
   ]
  },
  {
   "cell_type": "code",
   "execution_count": 6,
   "id": "43f32998-3809-4e42-b799-7f09ddf2b69d",
   "metadata": {},
   "outputs": [
    {
     "name": "stdout",
     "output_type": "stream",
     "text": [
      "Test Accuracy: 0.99\n"
     ]
    }
   ],
   "source": [
    "correct = 0\n",
    "total = 0\n",
    "with torch.no_grad():\n",
    "    for images, labels in test_loader:\n",
    "        outputs = cnn(images)\n",
    "        _, predicted = torch.max(outputs, 1)\n",
    "        total += labels.size(0)\n",
    "        correct += (predicted == labels).sum().item()\n",
    "\n",
    "accuracy = correct / total\n",
    "print(f\"Test Accuracy: {accuracy:.2f}\")"
   ]
  },
  {
   "cell_type": "markdown",
   "id": "d50f3256-0745-4d42-aeae-7ccb4178041b",
   "metadata": {},
   "source": [
    "## Next Steps\n",
    "- Experiment with different architectures and optimizers.\n",
    "- Apply data augmentation techniques to improve performance.\n",
    "- Train CNNs on more complex datasets like CIFAR-10."
   ]
  },
  {
   "cell_type": "code",
   "execution_count": null,
   "id": "6792a41e-b90d-4e95-a8fd-868014dd9ed3",
   "metadata": {},
   "outputs": [],
   "source": []
  }
 ],
 "metadata": {
  "kernelspec": {
   "display_name": "Python 3 (ipykernel)",
   "language": "python",
   "name": "python3"
  },
  "language_info": {
   "codemirror_mode": {
    "name": "ipython",
    "version": 3
   },
   "file_extension": ".py",
   "mimetype": "text/x-python",
   "name": "python",
   "nbconvert_exporter": "python",
   "pygments_lexer": "ipython3",
   "version": "3.12.6"
  }
 },
 "nbformat": 4,
 "nbformat_minor": 5
}
