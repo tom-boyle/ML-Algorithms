{
 "cells": [
  {
   "cell_type": "markdown",
   "id": "acf8f5d0-c905-4ffd-9933-f8f6bf411402",
   "metadata": {},
   "source": [
    "# Simple Neural Network in Python\n",
    "\n",
    "This notebook demonstrates how to implement a simple feedforward neural network using PyTorch."
   ]
  },
  {
   "cell_type": "markdown",
   "id": "40832335-dd45-48fd-bf7b-75a300a976cb",
   "metadata": {},
   "source": [
    "# **Step 1: Import Libraries**"
   ]
  },
  {
   "cell_type": "code",
   "execution_count": null,
   "id": "34ebd255-e3cc-46d9-9958-7cc570a143c8",
   "metadata": {},
   "outputs": [],
   "source": [
    "import torch\n",
    "import torch.nn as nn\n",
    "import torch.optim as optim\n",
    "import numpy as np\n",
    "from sklearn.datasets import make_classification\n",
    "from sklearn.model_selection import train_test_split\n",
    "from sklearn.preprocessing import StandardScaler"
   ]
  },
  {
   "cell_type": "markdown",
   "id": "0e4b672c-c4a0-48ec-aafa-51b9901c0711",
   "metadata": {},
   "source": [
    "# **Step 2: Generate Synthetic Dataset**"
   ]
  },
  {
   "cell_type": "code",
   "execution_count": null,
   "id": "dd0707e4-777f-429e-be34-f764ee669ea3",
   "metadata": {},
   "outputs": [],
   "source": [
    "X, y = make_classification(n_samples=1000, n_features=10, n_classes=2, random_state=42)\n",
    "scaler = StandardScaler()\n",
    "X = scaler.fit_transform(X)\n",
    "X_train, X_test, y_train, y_test = train_test_split(X, y, test_size=0.2, random_state=42)\n",
    "\n",
    "X_train_tensor = torch.FloatTensor(X_train)\n",
    "X_test_tensor = torch.FloatTensor(X_test)\n",
    "y_train_tensor = torch.LongTensor(y_train)\n",
    "y_test_tensor = torch.LongTensor(y_test)"
   ]
  },
  {
   "cell_type": "markdown",
   "id": "8422e48e-b54b-4c09-a865-b9db0f3de2b7",
   "metadata": {},
   "source": [
    "# **Step 3: Define the Neural Network Model**"
   ]
  },
  {
   "cell_type": "code",
   "execution_count": null,
   "id": "be6e0f1d-fe2b-4430-89a5-d8b669cbac5a",
   "metadata": {},
   "outputs": [],
   "source": [
    "class SimpleNN(nn.Module):\n",
    "    def __init__(self, input_dim):\n",
    "        super(SimpleNN, self).__init__()\n",
    "        self.fc1 = nn.Linear(input_dim, 16)\n",
    "        self.fc2 = nn.Linear(16, 8)\n",
    "        self.fc3 = nn.Linear(8, 2)\n",
    "    \n",
    "    def forward(self, x):\n",
    "        x = torch.relu(self.fc1(x))\n",
    "        x = torch.relu(self.fc2(x))\n",
    "        return self.fc3(x)"
   ]
  },
  {
   "cell_type": "markdown",
   "id": "2e50ea9b-ccf2-42c4-8966-4a661704d683",
   "metadata": {},
   "source": [
    "# **Step 4: Initialize Model, Loss Function, and Optimizer**"
   ]
  },
  {
   "cell_type": "code",
   "execution_count": null,
   "id": "60fd9f4a-6749-4fe0-88b6-462aa6a2902b",
   "metadata": {},
   "outputs": [],
   "source": [
    "model = SimpleNN(input_dim=10)\n",
    "loss_fn = nn.CrossEntropyLoss()\n",
    "optimizer = optim.Adam(model.parameters(), lr=0.001)"
   ]
  },
  {
   "cell_type": "markdown",
   "id": "4ff2f089-6beb-4367-91c9-c9965ceefa1a",
   "metadata": {},
   "source": [
    "# **Step 5: Train the Model**"
   ]
  },
  {
   "cell_type": "code",
   "execution_count": null,
   "id": "1dfbaf4a-5e4e-40d5-865d-688e1ba7f7f8",
   "metadata": {},
   "outputs": [],
   "source": [
    "epochs = 100\n",
    "for epoch in range(epochs):\n",
    "    optimizer.zero_grad()\n",
    "    outputs = model(X_train_tensor)\n",
    "    loss = loss_fn(outputs, y_train_tensor)\n",
    "    loss.backward()\n",
    "    optimizer.step()\n",
    "    if (epoch+1) % 10 == 0:\n",
    "        print(f\"Epoch {epoch+1}, Loss: {loss.item():.4f}\")"
   ]
  },
  {
   "cell_type": "markdown",
   "id": "dd88fa0c-108d-4171-ae44-b1d07b4eafb8",
   "metadata": {},
   "source": [
    "# **Step 6: Evaluate the Model**"
   ]
  },
  {
   "cell_type": "code",
   "execution_count": null,
   "id": "7e2fde69-b8c7-4935-ab8d-5820dafb58a9",
   "metadata": {},
   "outputs": [],
   "source": [
    "with torch.no_grad():\n",
    "    test_outputs = model(X_test_tensor)\n",
    "    predictions = torch.argmax(test_outputs, axis=1)\n",
    "    accuracy = (predictions == y_test_tensor).float().mean()\n",
    "    print(f\"Test Accuracy: {accuracy:.2f}\")"
   ]
  },
  {
   "cell_type": "markdown",
   "id": "ab64b433-dbf2-4077-9516-a0d8f6c40737",
   "metadata": {},
   "source": [
    "## Next Steps\n",
    "- Experiment with different architectures and activation functions.\n",
    "- Use larger datasets and explore regularization techniques.\n",
    "- Try using `LSTM` or `CNN` for different types of data."
   ]
  }
 ],
 "metadata": {
  "kernelspec": {
   "display_name": "Python 3 (ipykernel)",
   "language": "python",
   "name": "python3"
  },
  "language_info": {
   "codemirror_mode": {
    "name": "ipython",
    "version": 3
   },
   "file_extension": ".py",
   "mimetype": "text/x-python",
   "name": "python",
   "nbconvert_exporter": "python",
   "pygments_lexer": "ipython3",
   "version": "3.12.6"
  }
 },
 "nbformat": 4,
 "nbformat_minor": 5
}
